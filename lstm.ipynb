{
 "cells": [
  {
   "cell_type": "code",
   "execution_count": 1,
   "metadata": {},
   "outputs": [],
   "source": [
    "import torch\n",
    "import ujson\n",
    "import gzip\n",
    "import string\n",
    "import random\n",
    "import sys\n",
    "import pickle\n",
    "\n",
    "import numpy as np\n",
    "\n",
    "from glob import glob\n",
    "from tqdm import tqdm\n",
    "from collections import Counter, defaultdict\n",
    "from itertools import chain, islice, tee\n",
    "from multiprocessing import Pool\n",
    "\n",
    "from torch import nn, optim\n",
    "from torch.nn import functional as F\n",
    "from torch.nn.utils import rnn\n",
    "from torch.utils.data import random_split\n",
    "from torch.utils.data import DataLoader\n",
    "\n",
    "from headline_parser import parse_headline"
   ]
  },
  {
   "cell_type": "code",
   "execution_count": 2,
   "metadata": {},
   "outputs": [],
   "source": [
    "import matplotlib as mpl\n",
    "import matplotlib.pyplot as plt\n",
    "import seaborn as sns\n",
    "\n",
    "mpl.style.use('seaborn-muted')\n",
    "sns.set(style=\"whitegrid\")"
   ]
  },
  {
   "cell_type": "code",
   "execution_count": 3,
   "metadata": {},
   "outputs": [],
   "source": [
    "def read_json_gz_lines(root):\n",
    "    \"\"\"Read JSON corpus.\n",
    "\n",
    "    Yields: dict\n",
    "    \"\"\"\n",
    "    for path in glob('%s/*.gz' % root):\n",
    "        with gzip.open(path) as fh:\n",
    "            for line in fh:\n",
    "                yield ujson.loads(line)"
   ]
  },
  {
   "cell_type": "code",
   "execution_count": 4,
   "metadata": {},
   "outputs": [],
   "source": [
    "def group_by_sizes(L, sizes):\n",
    "    \"\"\"Given a flat list and a list of sizes that sum to the length of the\n",
    "    list, group the list into sublists with corresponding sizes.\n",
    "\n",
    "    Args:\n",
    "        L (list)\n",
    "        sizes (list<int>)\n",
    "\n",
    "    Returns: list<list>\n",
    "    \"\"\"\n",
    "    parts = []\n",
    "\n",
    "    total = 0\n",
    "    for s in sizes:\n",
    "        parts.append(L[total:total+s])\n",
    "        total += s\n",
    "\n",
    "    return parts"
   ]
  },
  {
   "cell_type": "code",
   "execution_count": 5,
   "metadata": {},
   "outputs": [],
   "source": [
    "DEVICE = torch.device('cuda') if torch.cuda.is_available() else torch.device('cpu')"
   ]
  },
  {
   "cell_type": "code",
   "execution_count": 7,
   "metadata": {},
   "outputs": [],
   "source": [
    "class Corpus:\n",
    "    \n",
    "    @classmethod\n",
    "    def from_spark_lines(cls, root, skim=None):\n",
    "        \n",
    "        rows_iter = islice(read_json_gz_lines(root), skim)\n",
    "        \n",
    "        # Label -> [line1, line2, ...]\n",
    "        groups = defaultdict(list)\n",
    "        for row in tqdm(rows_iter):\n",
    "            \n",
    "            doc = parse_headline(row['title'])\n",
    "            spans = [s.text for s in doc._.spans if s.text]\n",
    "            \n",
    "            # Only care about cases where we can remove a split.\n",
    "            if len(spans) > 1:\n",
    "                for span in spans:\n",
    "                        groups[row['domain']].append(span)\n",
    "                \n",
    "        return cls(groups)\n",
    "    \n",
    "    @classmethod\n",
    "    def load(cls, path):\n",
    "        with open(path, 'rb') as fh:\n",
    "            return pickle.load(fh)\n",
    "        \n",
    "    def save(self, path):\n",
    "        with open(path, 'wb') as fh:\n",
    "            pickle.dump(self, fh)\n",
    "    \n",
    "    def __init__(self, groups, test_frac=0.1):\n",
    "        self.groups = groups\n",
    "        self.test_frac = test_frac\n",
    "        self.set_splits()\n",
    "        \n",
    "    def labels(self):\n",
    "        return list(self.groups)\n",
    "        \n",
    "    def min_label_count(self):\n",
    "        return min([len(v) for v in self.groups.values()])\n",
    "    \n",
    "    def set_splits(self):\n",
    "        \n",
    "        min_count = self.min_label_count()\n",
    "        \n",
    "        pairs = list(chain(*[\n",
    "            [(line, label) for line in random.sample(lines, min_count)]\n",
    "            for label, lines in self.groups.items()\n",
    "        ]))\n",
    "        \n",
    "        test_size = round(len(pairs) * self.test_frac)\n",
    "        train_size = len(pairs) - (test_size * 2)\n",
    "        sizes = (train_size, test_size, test_size)\n",
    "        \n",
    "        self.train, self.val, self.test = random_split(pairs, sizes)"
   ]
  },
  {
   "cell_type": "code",
   "execution_count": 8,
   "metadata": {},
   "outputs": [],
   "source": [
    "class CharEmbedding(nn.Embedding):\n",
    "\n",
    "    def __init__(self, embed_dim=15):\n",
    "        \"\"\"Set vocab, map s->i.\n",
    "        \"\"\"\n",
    "        self.vocab = (\n",
    "            string.ascii_letters +\n",
    "            string.digits +\n",
    "            string.punctuation\n",
    "        )\n",
    "\n",
    "        # <UNK> -> 1\n",
    "        self._ctoi = {s: i+1 for i, s in enumerate(self.vocab)}\n",
    "\n",
    "        super().__init__(len(self.vocab)+1, embed_dim)\n",
    "        \n",
    "    @property\n",
    "    def out_dim(self):\n",
    "        return self.weight.shape[1]\n",
    "\n",
    "    def ctoi(self, c):\n",
    "        return self._ctoi.get(c, 0)\n",
    "\n",
    "    def chars_to_idxs(self, chars):\n",
    "        \"\"\"Map characters to embedding indexes.\n",
    "        \"\"\"\n",
    "        idxs = [self.ctoi(c) for c in chars]\n",
    "\n",
    "        return torch.LongTensor(idxs).to(DEVICE)\n",
    "\n",
    "    def forward(self, chars):\n",
    "        \"\"\"Batch-embed chars.\n",
    "\n",
    "        Args:\n",
    "            tokens (list<str>)\n",
    "        \"\"\"\n",
    "        idxs = [self.ctoi(c) for c in chars]\n",
    "        x = torch.LongTensor(idxs).to(DEVICE)\n",
    "        \n",
    "        return super().forward(x)"
   ]
  },
  {
   "cell_type": "code",
   "execution_count": 9,
   "metadata": {},
   "outputs": [],
   "source": [
    "class SpanEncoder(nn.Module):\n",
    "\n",
    "    def __init__(self, input_size, hidden_size=100, num_layers=1):\n",
    "        \"\"\"Initialize LSTM.\n",
    "        \"\"\"\n",
    "        super().__init__()\n",
    "\n",
    "        self.lstm = nn.LSTM(\n",
    "            input_size=input_size,\n",
    "            hidden_size=hidden_size,\n",
    "            num_layers=num_layers,\n",
    "            batch_first=True,\n",
    "            bidirectional=True,\n",
    "        )\n",
    "\n",
    "        self.out_dim = self.lstm.hidden_size * 2\n",
    "\n",
    "    def forward(self, xs):\n",
    "        \"\"\"Sort, pack, encode, reorder.\n",
    "\n",
    "        Args:\n",
    "            xs (list<Tensor>): Variable-length embedding tensors.\n",
    "\n",
    "        Returns:\n",
    "            x (Tensor): F/B hidden tops.\n",
    "        \"\"\"\n",
    "        sizes = [len(x) for x in xs]\n",
    "\n",
    "        # Indexes to sort descending.\n",
    "        sort_idxs = np.argsort(sizes)[::-1]\n",
    "\n",
    "        # Indexes to restore original order.\n",
    "        unsort_idxs = torch.from_numpy(np.argsort(sort_idxs)).to(DEVICE)\n",
    "\n",
    "        # Sort by size descending.\n",
    "        xs = [xs[i] for i in sort_idxs]\n",
    "\n",
    "        # Pad + pack, LSTM.\n",
    "        x = rnn.pack_sequence(xs)\n",
    "        _, (hn, _) = self.lstm(x)\n",
    "\n",
    "        # Cat forward + backward hidden layers.\n",
    "        x = torch.cat([hn[0,:,:], hn[1,:,:]], dim=1)\n",
    "        x = x[unsort_idxs]\n",
    "\n",
    "        return x"
   ]
  },
  {
   "cell_type": "code",
   "execution_count": 10,
   "metadata": {},
   "outputs": [],
   "source": [
    "class Classifier(nn.Module):\n",
    "\n",
    "    def __init__(self, labels, hidden_dim=100):\n",
    "        \"\"\"Initialize encoders + clf.\n",
    "        \"\"\"\n",
    "        super().__init__()\n",
    "\n",
    "        self.labels = labels\n",
    "        self.ltoi = {label: i for i, label in enumerate(labels)}\n",
    "\n",
    "        self.embed_chars = CharEmbedding()\n",
    "        self.encode_spans = SpanEncoder(self.embed_chars.out_dim)\n",
    "\n",
    "        self.dropout = nn.Dropout()\n",
    "\n",
    "        self.predict = nn.Sequential(\n",
    "            nn.Linear(self.encode_spans.out_dim, hidden_dim),\n",
    "            nn.ReLU(),\n",
    "            nn.Linear(hidden_dim, len(labels)),\n",
    "            nn.LogSoftmax(1),\n",
    "        )\n",
    "\n",
    "    def forward(self, spans):\n",
    "        \"\"\"Predict outlet.\n",
    "        \"\"\"\n",
    "        sizes = [len(s) for s in spans]\n",
    "\n",
    "        # Embed chars, regroup by line.\n",
    "        x = self.embed_chars(list(chain(*spans)))\n",
    "        xs = group_by_sizes(x, sizes)\n",
    "\n",
    "        # Embed spans.\n",
    "        x = self.encode_spans(xs)\n",
    "        x = self.dropout(x)\n",
    "\n",
    "        return self.predict(x)\n",
    "\n",
    "    def collate_batch(self, batch):\n",
    "        \"\"\"Labels -> indexes.\n",
    "        \"\"\"\n",
    "        lines, labels = list(zip(*batch))\n",
    "\n",
    "        yt_idx = [self.ltoi[label] for label in labels]\n",
    "        yt = torch.LongTensor(yt_idx).to(DEVICE)\n",
    "\n",
    "        return lines, yt"
   ]
  },
  {
   "cell_type": "code",
   "execution_count": 11,
   "metadata": {},
   "outputs": [],
   "source": [
    "def train_epoch(model, optimizer, split):\n",
    "\n",
    "    loader = DataLoader(\n",
    "        split,\n",
    "        collate_fn=model.collate_batch,\n",
    "        batch_size=50,\n",
    "    )\n",
    "\n",
    "    losses = []\n",
    "    for spans, yt in tqdm(loader):\n",
    "\n",
    "        model.train()\n",
    "        optimizer.zero_grad()\n",
    "\n",
    "        yp = model(spans)\n",
    "\n",
    "        loss = loss_func(yp, yt)\n",
    "        loss.backward()\n",
    "\n",
    "        optimizer.step()\n",
    "\n",
    "        losses.append(loss.item())\n",
    "        \n",
    "    return losses"
   ]
  },
  {
   "cell_type": "code",
   "execution_count": 12,
   "metadata": {},
   "outputs": [],
   "source": [
    "def predict(model, split):\n",
    "    \n",
    "    model.eval()\n",
    "\n",
    "    loader = DataLoader(\n",
    "        split,\n",
    "        collate_fn=model.collate_batch,\n",
    "        batch_size=50,\n",
    "    )\n",
    "    \n",
    "    yt, yp = [], []\n",
    "    for lines, yti in loader:\n",
    "        yp += model(lines).tolist()\n",
    "        yt += yti.tolist()\n",
    "        \n",
    "    yt = torch.LongTensor(yt)\n",
    "    yp = torch.FloatTensor(yp)\n",
    "        \n",
    "    return yt, yp"
   ]
  },
  {
   "cell_type": "code",
   "execution_count": 13,
   "metadata": {},
   "outputs": [],
   "source": [
    "def evaluate(model, split):\n",
    "    yt, yp = predict(model, split)\n",
    "    return loss_func(yp, yt)"
   ]
  },
  {
   "cell_type": "code",
   "execution_count": 14,
   "metadata": {},
   "outputs": [
    {
     "name": "stderr",
     "output_type": "stream",
     "text": [
      "10000it [00:04, 2335.64it/s]\n"
     ]
    }
   ],
   "source": [
    "corpus = Corpus.from_spark_lines('data/cleaning-titles.json/', 10000)"
   ]
  },
  {
   "cell_type": "code",
   "execution_count": 25,
   "metadata": {},
   "outputs": [],
   "source": [
    "corpus.save('data/corpus.p')"
   ]
  },
  {
   "cell_type": "code",
   "execution_count": 26,
   "metadata": {},
   "outputs": [],
   "source": [
    "corpus = Corpus.load('data/corpus.p')"
   ]
  },
  {
   "cell_type": "code",
   "execution_count": 27,
   "metadata": {},
   "outputs": [],
   "source": [
    "model = Classifier(corpus.labels())\n",
    "optimizer = optim.Adam(model.parameters(), lr=1e-4)\n",
    "loss_func = nn.NLLLoss()"
   ]
  },
  {
   "cell_type": "code",
   "execution_count": 28,
   "metadata": {},
   "outputs": [
    {
     "name": "stderr",
     "output_type": "stream",
     "text": [
      "100%|██████████| 22/22 [00:02<00:00,  8.36it/s]\n",
      "  5%|▍         | 1/22 [00:00<00:02,  8.49it/s]"
     ]
    },
    {
     "name": "stdout",
     "output_type": "stream",
     "text": [
      "tensor(2.7140)\n"
     ]
    },
    {
     "name": "stderr",
     "output_type": "stream",
     "text": [
      " 82%|████████▏ | 18/22 [00:02<00:00,  8.48it/s]\n"
     ]
    },
    {
     "ename": "KeyboardInterrupt",
     "evalue": "",
     "output_type": "error",
     "traceback": [
      "\u001b[0;31m---------------------------------------------------------------------------\u001b[0m",
      "\u001b[0;31mKeyboardInterrupt\u001b[0m                         Traceback (most recent call last)",
      "\u001b[0;32m<ipython-input-28-4a91e6824f08>\u001b[0m in \u001b[0;36m<module>\u001b[0;34m\u001b[0m\n\u001b[1;32m      2\u001b[0m \u001b[0;32mfor\u001b[0m \u001b[0m_\u001b[0m \u001b[0;32min\u001b[0m \u001b[0mrange\u001b[0m\u001b[0;34m(\u001b[0m\u001b[0;36m100\u001b[0m\u001b[0;34m)\u001b[0m\u001b[0;34m:\u001b[0m\u001b[0;34m\u001b[0m\u001b[0m\n\u001b[1;32m      3\u001b[0m \u001b[0;34m\u001b[0m\u001b[0m\n\u001b[0;32m----> 4\u001b[0;31m     \u001b[0mtrain_epoch\u001b[0m\u001b[0;34m(\u001b[0m\u001b[0mmodel\u001b[0m\u001b[0;34m,\u001b[0m \u001b[0moptimizer\u001b[0m\u001b[0;34m,\u001b[0m \u001b[0mcorpus\u001b[0m\u001b[0;34m.\u001b[0m\u001b[0mtrain\u001b[0m\u001b[0;34m)\u001b[0m\u001b[0;34m\u001b[0m\u001b[0m\n\u001b[0m\u001b[1;32m      5\u001b[0m \u001b[0;34m\u001b[0m\u001b[0m\n\u001b[1;32m      6\u001b[0m     \u001b[0mloss\u001b[0m \u001b[0;34m=\u001b[0m \u001b[0mevaluate\u001b[0m\u001b[0;34m(\u001b[0m\u001b[0mmodel\u001b[0m\u001b[0;34m,\u001b[0m \u001b[0mcorpus\u001b[0m\u001b[0;34m.\u001b[0m\u001b[0mval\u001b[0m\u001b[0;34m)\u001b[0m\u001b[0;34m\u001b[0m\u001b[0m\n",
      "\u001b[0;32m<ipython-input-11-b475fb95f9e9>\u001b[0m in \u001b[0;36mtrain_epoch\u001b[0;34m(model, optimizer, split)\u001b[0m\n\u001b[1;32m     16\u001b[0m \u001b[0;34m\u001b[0m\u001b[0m\n\u001b[1;32m     17\u001b[0m         \u001b[0mloss\u001b[0m \u001b[0;34m=\u001b[0m \u001b[0mloss_func\u001b[0m\u001b[0;34m(\u001b[0m\u001b[0myp\u001b[0m\u001b[0;34m,\u001b[0m \u001b[0myt\u001b[0m\u001b[0;34m)\u001b[0m\u001b[0;34m\u001b[0m\u001b[0m\n\u001b[0;32m---> 18\u001b[0;31m         \u001b[0mloss\u001b[0m\u001b[0;34m.\u001b[0m\u001b[0mbackward\u001b[0m\u001b[0;34m(\u001b[0m\u001b[0;34m)\u001b[0m\u001b[0;34m\u001b[0m\u001b[0m\n\u001b[0m\u001b[1;32m     19\u001b[0m \u001b[0;34m\u001b[0m\u001b[0m\n\u001b[1;32m     20\u001b[0m         \u001b[0moptimizer\u001b[0m\u001b[0;34m.\u001b[0m\u001b[0mstep\u001b[0m\u001b[0;34m(\u001b[0m\u001b[0;34m)\u001b[0m\u001b[0;34m\u001b[0m\u001b[0m\n",
      "\u001b[0;32m~/.local/share/virtualenvs/headline-parser-OTq2To-B/lib/python3.7/site-packages/torch/tensor.py\u001b[0m in \u001b[0;36mbackward\u001b[0;34m(self, gradient, retain_graph, create_graph)\u001b[0m\n\u001b[1;32m    100\u001b[0m                 \u001b[0mproducts\u001b[0m\u001b[0;34m.\u001b[0m \u001b[0mDefaults\u001b[0m \u001b[0mto\u001b[0m\u001b[0;31m \u001b[0m\u001b[0;31m`\u001b[0m\u001b[0;31m`\u001b[0m\u001b[0;32mFalse\u001b[0m\u001b[0;31m`\u001b[0m\u001b[0;31m`\u001b[0m\u001b[0;34m.\u001b[0m\u001b[0;34m\u001b[0m\u001b[0m\n\u001b[1;32m    101\u001b[0m         \"\"\"\n\u001b[0;32m--> 102\u001b[0;31m         \u001b[0mtorch\u001b[0m\u001b[0;34m.\u001b[0m\u001b[0mautograd\u001b[0m\u001b[0;34m.\u001b[0m\u001b[0mbackward\u001b[0m\u001b[0;34m(\u001b[0m\u001b[0mself\u001b[0m\u001b[0;34m,\u001b[0m \u001b[0mgradient\u001b[0m\u001b[0;34m,\u001b[0m \u001b[0mretain_graph\u001b[0m\u001b[0;34m,\u001b[0m \u001b[0mcreate_graph\u001b[0m\u001b[0;34m)\u001b[0m\u001b[0;34m\u001b[0m\u001b[0m\n\u001b[0m\u001b[1;32m    103\u001b[0m \u001b[0;34m\u001b[0m\u001b[0m\n\u001b[1;32m    104\u001b[0m     \u001b[0;32mdef\u001b[0m \u001b[0mregister_hook\u001b[0m\u001b[0;34m(\u001b[0m\u001b[0mself\u001b[0m\u001b[0;34m,\u001b[0m \u001b[0mhook\u001b[0m\u001b[0;34m)\u001b[0m\u001b[0;34m:\u001b[0m\u001b[0;34m\u001b[0m\u001b[0m\n",
      "\u001b[0;32m~/.local/share/virtualenvs/headline-parser-OTq2To-B/lib/python3.7/site-packages/torch/autograd/__init__.py\u001b[0m in \u001b[0;36mbackward\u001b[0;34m(tensors, grad_tensors, retain_graph, create_graph, grad_variables)\u001b[0m\n\u001b[1;32m     88\u001b[0m     Variable._execution_engine.run_backward(\n\u001b[1;32m     89\u001b[0m         \u001b[0mtensors\u001b[0m\u001b[0;34m,\u001b[0m \u001b[0mgrad_tensors\u001b[0m\u001b[0;34m,\u001b[0m \u001b[0mretain_graph\u001b[0m\u001b[0;34m,\u001b[0m \u001b[0mcreate_graph\u001b[0m\u001b[0;34m,\u001b[0m\u001b[0;34m\u001b[0m\u001b[0m\n\u001b[0;32m---> 90\u001b[0;31m         allow_unreachable=True)  # allow_unreachable flag\n\u001b[0m\u001b[1;32m     91\u001b[0m \u001b[0;34m\u001b[0m\u001b[0m\n\u001b[1;32m     92\u001b[0m \u001b[0;34m\u001b[0m\u001b[0m\n",
      "\u001b[0;31mKeyboardInterrupt\u001b[0m: "
     ]
    }
   ],
   "source": [
    "losses = []\n",
    "for _ in range(100):\n",
    "    \n",
    "    train_epoch(model, optimizer, corpus.train)\n",
    "    \n",
    "    loss = evaluate(model, corpus.val)\n",
    "    losses.append(loss)\n",
    "    \n",
    "    print(loss)\n",
    "    \n",
    "    if len(losses) > 3 and losses[-1] > losses[-5]:\n",
    "        break"
   ]
  },
  {
   "cell_type": "code",
   "execution_count": null,
   "metadata": {},
   "outputs": [],
   "source": [
    "weights = []\n",
    "for span, domain in islice(corpus.train, 1000):\n",
    "    \n",
    "    yp = model([span]).exp()\n",
    "    pred = model.labels[yp.argmax().item()]\n",
    "    weight = yp.max().item()\n",
    "    \n",
    "    if weight > 0.5:\n",
    "        print(span, domain, pred, weight)\n",
    "        \n",
    "    weights.append(weight)"
   ]
  },
  {
   "cell_type": "code",
   "execution_count": 234,
   "metadata": {},
   "outputs": [
    {
     "data": {
      "text/plain": [
       "<matplotlib.axes._subplots.AxesSubplot at 0x13b99abe0>"
      ]
     },
     "execution_count": 234,
     "metadata": {},
     "output_type": "execute_result"
    },
    {
     "data": {
      "image/png": "[encoded data removed]",
      "text/plain": [
       "<Figure size 432x288 with 1 Axes>"
      ]
     },
     "metadata": {},
     "output_type": "display_data"
    }
   ],
   "source": [
    "sns.distplot(weights)"
   ]
  },
  {
   "cell_type": "code",
   "execution_count": null,
   "metadata": {},
   "outputs": [],
   "source": []
  }
 ],
 "metadata": {
  "kernelspec": {
   "display_name": "Python 3",
   "language": "python",
   "name": "python3"
  },
  "language_info": {
   "codemirror_mode": {
    "name": "ipython",
    "version": 3
   },
   "file_extension": ".py",
   "mimetype": "text/x-python",
   "name": "python",
   "nbconvert_exporter": "python",
   "pygments_lexer": "ipython3",
   "version": "3.7.0"
  }
 },
 "nbformat": 4,
 "nbformat_minor": 2
}
