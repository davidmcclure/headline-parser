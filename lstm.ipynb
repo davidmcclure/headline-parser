{
 "cells": [
  {
   "cell_type": "code",
   "execution_count": 1,
   "metadata": {},
   "outputs": [],
   "source": [
    "import torch\n",
    "\n",
    "from span_clf import Corpus"
   ]
  },
  {
   "cell_type": "code",
   "execution_count": 2,
   "metadata": {},
   "outputs": [],
   "source": [
    "import matplotlib as mpl\n",
    "import matplotlib.pyplot as plt\n",
    "import seaborn as sns\n",
    "\n",
    "mpl.style.use('seaborn-muted')\n",
    "sns.set(style=\"whitegrid\")"
   ]
  },
  {
   "cell_type": "code",
   "execution_count": 19,
   "metadata": {},
   "outputs": [
    {
     "name": "stderr",
     "output_type": "stream",
     "text": [
      "/Users/dclure/.local/share/virtualenvs/headline-parser-OTq2To-B/lib/python3.7/site-packages/torch/serialization.py:400: UserWarning: Couldn't retrieve source code for container of type Classifier. It won't be checked for correctness upon loading.\n",
      "  \"type \" + container_type.__name__ + \". It won't be checked \"\n",
      "/Users/dclure/.local/share/virtualenvs/headline-parser-OTq2To-B/lib/python3.7/site-packages/torch/serialization.py:400: UserWarning: Couldn't retrieve source code for container of type CharEmbedding. It won't be checked for correctness upon loading.\n",
      "  \"type \" + container_type.__name__ + \". It won't be checked \"\n",
      "/Users/dclure/.local/share/virtualenvs/headline-parser-OTq2To-B/lib/python3.7/site-packages/torch/serialization.py:400: UserWarning: Couldn't retrieve source code for container of type SpanEncoder. It won't be checked for correctness upon loading.\n",
      "  \"type \" + container_type.__name__ + \". It won't be checked \"\n"
     ]
    }
   ],
   "source": [
    "model = torch.load('data/model.p', map_location='cpu')"
   ]
  },
  {
   "cell_type": "code",
   "execution_count": 23,
   "metadata": {},
   "outputs": [],
   "source": [
    "corpus = Corpus.load('data/corpus.p')"
   ]
  },
  {
   "cell_type": "code",
   "execution_count": 33,
   "metadata": {},
   "outputs": [
    {
     "data": {
      "text/plain": [
       "tensor(12)"
      ]
     },
     "execution_count": 33,
     "metadata": {},
     "output_type": "execute_result"
    }
   ],
   "source": [
    "model(['The \"Fill Up Your Shelves\" Project']).argmax()"
   ]
  },
  {
   "cell_type": "code",
   "execution_count": 35,
   "metadata": {},
   "outputs": [
    {
     "data": {
      "text/plain": [
       "'wsj.com'"
      ]
     },
     "execution_count": 35,
     "metadata": {},
     "output_type": "execute_result"
    }
   ],
   "source": [
    "model.labels[model(['The Fill Up Your Shelves Project']).argmax()]"
   ]
  },
  {
   "cell_type": "code",
   "execution_count": 31,
   "metadata": {},
   "outputs": [
    {
     "name": "stdout",
     "output_type": "stream",
     "text": [
      "Can You Get More Than 75 buzzfeed.com buzzfeed.com 0.9239768981933594\n",
      "Bloomberg New Energy Finance bloomberg.com bloomberg.com 0.9373583197593689\n",
      "report thehill.com thehill.com 0.9230834245681763\n",
      "Lawrence msnbc.com msnbc.com 0.9243524074554443\n",
      "report thehill.com thehill.com 0.9230834245681763\n",
      "report thehill.com thehill.com 0.9230834245681763\n",
      "Returns for Asia Ex Japan Stocks Next Year bloomberg.com bloomberg.com 0.9147698879241943\n",
      "Lawrence msnbc.com msnbc.com 0.9243524074554443\n",
      "Live Updates buzzfeed.com buzzfeed.com 0.9346946477890015\n",
      "CMO Today wsj.com wsj.com 0.9420340657234192\n",
      "of active military say white nationalism is a big national security threat, more than Syria. dailykos.com washingtonpost.com 0.9083685278892517\n",
      "report thehill.com thehill.com 0.9230834245681763\n",
      "\"Bunheads\" Bids A Wonderful Farewell To Its Fans buzzfeed.com buzzfeed.com 0.9219071865081787\n",
      "Here's Why You Should Still Have One buzzfeed.com buzzfeed.com 0.9033273458480835\n",
      "StateImpact Pennsylvania npr.org npr.org 0.9409207105636597\n",
      "The \"Fill Up Your Shelves\" Project buzzfeed.com buzzfeed.com 0.9266365766525269\n",
      "report thehill.com thehill.com 0.9230834245681763\n",
      "You have options and keeping your loved one at home, where they want to be, might be the best one. huffingtonpost.com washingtonpost.com 0.9383054971694946\n"
     ]
    }
   ],
   "source": [
    "weights = []\n",
    "for span, domain in islice(corpus.train, 1000):\n",
    "    \n",
    "    yp = model([span]).exp()\n",
    "    pred = model.labels[yp.argmax().item()]\n",
    "    weight = yp.max().item()\n",
    "    \n",
    "    if 0.9 < weight < 0.95:\n",
    "        print(span, domain, pred, weight)\n",
    "        \n",
    "    weights.append(weight)"
   ]
  },
  {
   "cell_type": "code",
   "execution_count": 28,
   "metadata": {},
   "outputs": [
    {
     "data": {
      "text/plain": [
       "<matplotlib.axes._subplots.AxesSubplot at 0x1390c45f8>"
      ]
     },
     "execution_count": 28,
     "metadata": {},
     "output_type": "execute_result"
    },
    {
     "data": {
      "image/png": "[encoded data removed]",
      "text/plain": [
       "<Figure size 432x288 with 1 Axes>"
      ]
     },
     "metadata": {
      "needs_background": "light"
     },
     "output_type": "display_data"
    }
   ],
   "source": [
    "sns.distplot(weights, 30)"
   ]
  },
  {
   "cell_type": "code",
   "execution_count": null,
   "metadata": {},
   "outputs": [],
   "source": []
  }
 ],
 "metadata": {
  "kernelspec": {
   "display_name": "Python 3",
   "language": "python",
   "name": "python3"
  },
  "language_info": {
   "codemirror_mode": {
    "name": "ipython",
    "version": 3
   },
   "file_extension": ".py",
   "mimetype": "text/x-python",
   "name": "python",
   "nbconvert_exporter": "python",
   "pygments_lexer": "ipython3",
   "version": "3.7.0"
  }
 },
 "nbformat": 4,
 "nbformat_minor": 2
}
